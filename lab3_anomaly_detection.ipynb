{
 "cells": [
  {
   "cell_type": "markdown",
   "id": "07086c11",
   "metadata": {},
   "source": [
    "## Lab 3: Anomaly Detection 1\n",
    "\n",
    "In this lab, you will be working with detecting anomalies in data. You will use basic Python libraries and the PyOD (https://pyod.readthedocs.io/en/latest/) library for detecting anomalies. Save your implementations with the name 'lab2_yourname.ipynb' and submit by the due date."
   ]
  },
  {
   "cell_type": "code",
   "execution_count": 4,
   "id": "81e32b29",
   "metadata": {},
   "outputs": [
    {
     "name": "stdout",
     "output_type": "stream",
     "text": [
      "Collecting pyod\n",
      "  Downloading pyod-1.1.0.tar.gz (153 kB)\n",
      "Requirement already satisfied: joblib in c:\\users\\nkill\\anaconda3\\lib\\site-packages (from pyod) (1.3.2)\n",
      "Requirement already satisfied: matplotlib in c:\\users\\nkill\\anaconda3\\lib\\site-packages (from pyod) (3.5.1)\n",
      "Requirement already satisfied: numpy>=1.19 in c:\\users\\nkill\\anaconda3\\lib\\site-packages (from pyod) (1.21.5)\n",
      "Requirement already satisfied: numba>=0.51 in c:\\users\\nkill\\anaconda3\\lib\\site-packages (from pyod) (0.55.1)\n",
      "Requirement already satisfied: scipy>=1.5.1 in c:\\users\\nkill\\anaconda3\\lib\\site-packages (from pyod) (1.7.3)\n",
      "Requirement already satisfied: scikit_learn>=0.20.0 in c:\\users\\nkill\\anaconda3\\lib\\site-packages (from pyod) (1.0.2)\n",
      "Requirement already satisfied: six in c:\\users\\nkill\\anaconda3\\lib\\site-packages (from pyod) (1.16.0)\n",
      "Requirement already satisfied: setuptools in c:\\users\\nkill\\anaconda3\\lib\\site-packages (from numba>=0.51->pyod) (61.2.0)\n",
      "Requirement already satisfied: llvmlite<0.39,>=0.38.0rc1 in c:\\users\\nkill\\anaconda3\\lib\\site-packages (from numba>=0.51->pyod) (0.38.0)\n",
      "Requirement already satisfied: threadpoolctl>=2.0.0 in c:\\users\\nkill\\anaconda3\\lib\\site-packages (from scikit_learn>=0.20.0->pyod) (2.2.0)\n",
      "Requirement already satisfied: pillow>=6.2.0 in c:\\users\\nkill\\anaconda3\\lib\\site-packages (from matplotlib->pyod) (9.0.1)\n",
      "Requirement already satisfied: kiwisolver>=1.0.1 in c:\\users\\nkill\\anaconda3\\lib\\site-packages (from matplotlib->pyod) (1.3.2)\n",
      "Requirement already satisfied: fonttools>=4.22.0 in c:\\users\\nkill\\anaconda3\\lib\\site-packages (from matplotlib->pyod) (4.25.0)\n",
      "Requirement already satisfied: pyparsing>=2.2.1 in c:\\users\\nkill\\anaconda3\\lib\\site-packages (from matplotlib->pyod) (3.0.4)\n",
      "Requirement already satisfied: cycler>=0.10 in c:\\users\\nkill\\anaconda3\\lib\\site-packages (from matplotlib->pyod) (0.11.0)\n",
      "Requirement already satisfied: python-dateutil>=2.7 in c:\\users\\nkill\\anaconda3\\lib\\site-packages (from matplotlib->pyod) (2.8.2)\n",
      "Requirement already satisfied: packaging>=20.0 in c:\\users\\nkill\\anaconda3\\lib\\site-packages (from matplotlib->pyod) (21.3)\n",
      "Building wheels for collected packages: pyod\n",
      "  Building wheel for pyod (setup.py): started\n",
      "  Building wheel for pyod (setup.py): finished with status 'done'\n",
      "  Created wheel for pyod: filename=pyod-1.1.0-py3-none-any.whl size=185349 sha256=c6d0580bd0a4ab5fc505731126f22e14ff0982e149b2c1fbd9fa44b3f76df3a1\n",
      "  Stored in directory: c:\\users\\nkill\\appdata\\local\\pip\\cache\\wheels\\d7\\21\\ce\\d0f4083609d89f6c4371a5ecb8c13636e7570abaed1e2473ce\n",
      "Successfully built pyod\n",
      "Installing collected packages: pyod\n",
      "Successfully installed pyod-1.1.0\n",
      "Note: you may need to restart the kernel to use updated packages.\n"
     ]
    }
   ],
   "source": [
    "pip install pyod"
   ]
  },
  {
   "cell_type": "code",
   "execution_count": 1,
   "id": "5ef76e7d",
   "metadata": {},
   "outputs": [],
   "source": [
    "import numpy as np\n",
    "import pandas as pd\n",
    "import matplotlib.pyplot as plt\n",
    "%matplotlib inline\n",
    "import seaborn as sns\n",
    "pd.set_option(\"display.max_columns\",100)\n",
    "from pyod.utils.example import visualize\n",
    "from pyod.utils.data import evaluate_print"
   ]
  },
  {
   "cell_type": "markdown",
   "id": "793bb80e",
   "metadata": {},
   "source": [
    "## Data overview\n",
    "\n",
    "This dataset contains information on variants of the French wine. The dataset contains information on physicochemical variables that were recorded on different wine samples.\n",
    "\n",
    "There 6497 datapoints and twelve variables, namely: fixed_acidity, volatile_acidity, citric_acid, residual_sugar, chlorides, free_sulfur_dioxide, total_sulfur_dioxide, density, pH, sulphates, alcohol level and quality.\n"
   ]
  },
  {
   "cell_type": "code",
   "execution_count": 2,
   "id": "949f784f",
   "metadata": {},
   "outputs": [
    {
     "data": {
      "text/html": [
       "<div>\n",
       "<style scoped>\n",
       "    .dataframe tbody tr th:only-of-type {\n",
       "        vertical-align: middle;\n",
       "    }\n",
       "\n",
       "    .dataframe tbody tr th {\n",
       "        vertical-align: top;\n",
       "    }\n",
       "\n",
       "    .dataframe thead th {\n",
       "        text-align: right;\n",
       "    }\n",
       "</style>\n",
       "<table border=\"1\" class=\"dataframe\">\n",
       "  <thead>\n",
       "    <tr style=\"text-align: right;\">\n",
       "      <th></th>\n",
       "      <th>fixed acidity</th>\n",
       "      <th>volatile acidity</th>\n",
       "      <th>citric acid</th>\n",
       "      <th>residual sugar</th>\n",
       "      <th>chlorides</th>\n",
       "      <th>free sulfur dioxide</th>\n",
       "      <th>total sulfur dioxide</th>\n",
       "      <th>density</th>\n",
       "      <th>pH</th>\n",
       "      <th>sulphates</th>\n",
       "      <th>alcohol</th>\n",
       "      <th>quality</th>\n",
       "    </tr>\n",
       "  </thead>\n",
       "  <tbody>\n",
       "    <tr>\n",
       "      <th>0</th>\n",
       "      <td>7.4</td>\n",
       "      <td>0.70</td>\n",
       "      <td>0.00</td>\n",
       "      <td>1.9</td>\n",
       "      <td>0.076</td>\n",
       "      <td>11.0</td>\n",
       "      <td>34.0</td>\n",
       "      <td>0.99780</td>\n",
       "      <td>3.51</td>\n",
       "      <td>0.56</td>\n",
       "      <td>9.4</td>\n",
       "      <td>5</td>\n",
       "    </tr>\n",
       "    <tr>\n",
       "      <th>1</th>\n",
       "      <td>7.8</td>\n",
       "      <td>0.88</td>\n",
       "      <td>0.00</td>\n",
       "      <td>2.6</td>\n",
       "      <td>0.098</td>\n",
       "      <td>25.0</td>\n",
       "      <td>67.0</td>\n",
       "      <td>0.99680</td>\n",
       "      <td>3.20</td>\n",
       "      <td>0.68</td>\n",
       "      <td>9.8</td>\n",
       "      <td>5</td>\n",
       "    </tr>\n",
       "    <tr>\n",
       "      <th>2</th>\n",
       "      <td>7.8</td>\n",
       "      <td>0.76</td>\n",
       "      <td>0.04</td>\n",
       "      <td>2.3</td>\n",
       "      <td>0.092</td>\n",
       "      <td>15.0</td>\n",
       "      <td>54.0</td>\n",
       "      <td>0.99700</td>\n",
       "      <td>3.26</td>\n",
       "      <td>0.65</td>\n",
       "      <td>9.8</td>\n",
       "      <td>5</td>\n",
       "    </tr>\n",
       "    <tr>\n",
       "      <th>3</th>\n",
       "      <td>11.2</td>\n",
       "      <td>0.28</td>\n",
       "      <td>0.56</td>\n",
       "      <td>1.9</td>\n",
       "      <td>0.075</td>\n",
       "      <td>17.0</td>\n",
       "      <td>60.0</td>\n",
       "      <td>0.99800</td>\n",
       "      <td>3.16</td>\n",
       "      <td>0.58</td>\n",
       "      <td>9.8</td>\n",
       "      <td>6</td>\n",
       "    </tr>\n",
       "    <tr>\n",
       "      <th>4</th>\n",
       "      <td>7.4</td>\n",
       "      <td>0.70</td>\n",
       "      <td>0.00</td>\n",
       "      <td>1.9</td>\n",
       "      <td>0.076</td>\n",
       "      <td>11.0</td>\n",
       "      <td>34.0</td>\n",
       "      <td>0.99780</td>\n",
       "      <td>3.51</td>\n",
       "      <td>0.56</td>\n",
       "      <td>9.4</td>\n",
       "      <td>5</td>\n",
       "    </tr>\n",
       "    <tr>\n",
       "      <th>...</th>\n",
       "      <td>...</td>\n",
       "      <td>...</td>\n",
       "      <td>...</td>\n",
       "      <td>...</td>\n",
       "      <td>...</td>\n",
       "      <td>...</td>\n",
       "      <td>...</td>\n",
       "      <td>...</td>\n",
       "      <td>...</td>\n",
       "      <td>...</td>\n",
       "      <td>...</td>\n",
       "      <td>...</td>\n",
       "    </tr>\n",
       "    <tr>\n",
       "      <th>6492</th>\n",
       "      <td>6.2</td>\n",
       "      <td>0.21</td>\n",
       "      <td>0.29</td>\n",
       "      <td>1.6</td>\n",
       "      <td>0.039</td>\n",
       "      <td>24.0</td>\n",
       "      <td>92.0</td>\n",
       "      <td>0.99114</td>\n",
       "      <td>3.27</td>\n",
       "      <td>0.50</td>\n",
       "      <td>11.2</td>\n",
       "      <td>6</td>\n",
       "    </tr>\n",
       "    <tr>\n",
       "      <th>6493</th>\n",
       "      <td>6.6</td>\n",
       "      <td>0.32</td>\n",
       "      <td>0.36</td>\n",
       "      <td>8.0</td>\n",
       "      <td>0.047</td>\n",
       "      <td>57.0</td>\n",
       "      <td>168.0</td>\n",
       "      <td>0.99490</td>\n",
       "      <td>3.15</td>\n",
       "      <td>0.46</td>\n",
       "      <td>9.6</td>\n",
       "      <td>5</td>\n",
       "    </tr>\n",
       "    <tr>\n",
       "      <th>6494</th>\n",
       "      <td>6.5</td>\n",
       "      <td>0.24</td>\n",
       "      <td>0.19</td>\n",
       "      <td>1.2</td>\n",
       "      <td>0.041</td>\n",
       "      <td>30.0</td>\n",
       "      <td>111.0</td>\n",
       "      <td>0.99254</td>\n",
       "      <td>2.99</td>\n",
       "      <td>0.46</td>\n",
       "      <td>9.4</td>\n",
       "      <td>6</td>\n",
       "    </tr>\n",
       "    <tr>\n",
       "      <th>6495</th>\n",
       "      <td>5.5</td>\n",
       "      <td>0.29</td>\n",
       "      <td>0.30</td>\n",
       "      <td>1.1</td>\n",
       "      <td>0.022</td>\n",
       "      <td>20.0</td>\n",
       "      <td>110.0</td>\n",
       "      <td>0.98869</td>\n",
       "      <td>3.34</td>\n",
       "      <td>0.38</td>\n",
       "      <td>12.8</td>\n",
       "      <td>7</td>\n",
       "    </tr>\n",
       "    <tr>\n",
       "      <th>6496</th>\n",
       "      <td>6.0</td>\n",
       "      <td>0.21</td>\n",
       "      <td>0.38</td>\n",
       "      <td>0.8</td>\n",
       "      <td>0.020</td>\n",
       "      <td>22.0</td>\n",
       "      <td>98.0</td>\n",
       "      <td>0.98941</td>\n",
       "      <td>3.26</td>\n",
       "      <td>0.32</td>\n",
       "      <td>11.8</td>\n",
       "      <td>6</td>\n",
       "    </tr>\n",
       "  </tbody>\n",
       "</table>\n",
       "<p>6497 rows × 12 columns</p>\n",
       "</div>"
      ],
      "text/plain": [
       "      fixed acidity  volatile acidity  citric acid  residual sugar  chlorides  \\\n",
       "0               7.4              0.70         0.00             1.9      0.076   \n",
       "1               7.8              0.88         0.00             2.6      0.098   \n",
       "2               7.8              0.76         0.04             2.3      0.092   \n",
       "3              11.2              0.28         0.56             1.9      0.075   \n",
       "4               7.4              0.70         0.00             1.9      0.076   \n",
       "...             ...               ...          ...             ...        ...   \n",
       "6492            6.2              0.21         0.29             1.6      0.039   \n",
       "6493            6.6              0.32         0.36             8.0      0.047   \n",
       "6494            6.5              0.24         0.19             1.2      0.041   \n",
       "6495            5.5              0.29         0.30             1.1      0.022   \n",
       "6496            6.0              0.21         0.38             0.8      0.020   \n",
       "\n",
       "      free sulfur dioxide  total sulfur dioxide  density    pH  sulphates  \\\n",
       "0                    11.0                  34.0  0.99780  3.51       0.56   \n",
       "1                    25.0                  67.0  0.99680  3.20       0.68   \n",
       "2                    15.0                  54.0  0.99700  3.26       0.65   \n",
       "3                    17.0                  60.0  0.99800  3.16       0.58   \n",
       "4                    11.0                  34.0  0.99780  3.51       0.56   \n",
       "...                   ...                   ...      ...   ...        ...   \n",
       "6492                 24.0                  92.0  0.99114  3.27       0.50   \n",
       "6493                 57.0                 168.0  0.99490  3.15       0.46   \n",
       "6494                 30.0                 111.0  0.99254  2.99       0.46   \n",
       "6495                 20.0                 110.0  0.98869  3.34       0.38   \n",
       "6496                 22.0                  98.0  0.98941  3.26       0.32   \n",
       "\n",
       "      alcohol  quality  \n",
       "0         9.4        5  \n",
       "1         9.8        5  \n",
       "2         9.8        5  \n",
       "3         9.8        6  \n",
       "4         9.4        5  \n",
       "...       ...      ...  \n",
       "6492     11.2        6  \n",
       "6493      9.6        5  \n",
       "6494      9.4        6  \n",
       "6495     12.8        7  \n",
       "6496     11.8        6  \n",
       "\n",
       "[6497 rows x 12 columns]"
      ]
     },
     "execution_count": 2,
     "metadata": {},
     "output_type": "execute_result"
    }
   ],
   "source": [
    "wine_data= pd.read_excel('wine_data.xls')\n",
    "wine_data"
   ]
  },
  {
   "cell_type": "code",
   "execution_count": 3,
   "id": "fdfc590f",
   "metadata": {},
   "outputs": [
    {
     "name": "stdout",
     "output_type": "stream",
     "text": [
      "<class 'pandas.core.frame.DataFrame'>\n",
      "RangeIndex: 6497 entries, 0 to 6496\n",
      "Data columns (total 12 columns):\n",
      " #   Column                Non-Null Count  Dtype  \n",
      "---  ------                --------------  -----  \n",
      " 0   fixed acidity         6497 non-null   float64\n",
      " 1   volatile acidity      6497 non-null   float64\n",
      " 2   citric acid           6497 non-null   float64\n",
      " 3   residual sugar        6497 non-null   float64\n",
      " 4   chlorides             6497 non-null   float64\n",
      " 5   free sulfur dioxide   6497 non-null   float64\n",
      " 6   total sulfur dioxide  6497 non-null   float64\n",
      " 7   density               6497 non-null   float64\n",
      " 8   pH                    6497 non-null   float64\n",
      " 9   sulphates             6497 non-null   float64\n",
      " 10  alcohol               6497 non-null   float64\n",
      " 11  quality               6497 non-null   int64  \n",
      "dtypes: float64(11), int64(1)\n",
      "memory usage: 609.2 KB\n"
     ]
    }
   ],
   "source": [
    "wine_data.info()"
   ]
  },
  {
   "cell_type": "markdown",
   "id": "372e8e18",
   "metadata": {},
   "source": [
    "Lets engineer a new feature 'score' that assigns values to the wine samples based on the quality."
   ]
  },
  {
   "cell_type": "code",
   "execution_count": 4,
   "id": "5ca3c1d1",
   "metadata": {},
   "outputs": [],
   "source": [
    "#New feature\n",
    "wine_data['score'] = [1 if x >= 5 else 0 for x in wine_data['quality']]\n"
   ]
  },
  {
   "cell_type": "code",
   "execution_count": 5,
   "id": "5493b2bb",
   "metadata": {},
   "outputs": [],
   "source": [
    "#For simplicity, we will now filter the dataset to a few features\n",
    "wine_filtered=wine_data[['fixed acidity','volatile acidity', 'score']]"
   ]
  },
  {
   "cell_type": "markdown",
   "id": "66c18b11",
   "metadata": {},
   "source": [
    "<div class='alert alert-block alert-warning' style=\"font-weight:bolder\">\n",
    " \n",
    " ### Data visualization as a tool for anomaly detection\n",
    "\n",
    "</div>"
   ]
  },
  {
   "cell_type": "markdown",
   "id": "8bb8a431",
   "metadata": {},
   "source": [
    "The simplest way to detect any anomalies or outliers in your dataset is to plot the data to identify any outlier patterns. \n",
    "In the example below, we implement a boxplot on feature: fixed acidity and a histogram on feature: volatile acidity to check for outliers."
   ]
  },
  {
   "cell_type": "code",
   "execution_count": 6,
   "id": "9a667447",
   "metadata": {},
   "outputs": [
    {
     "data": {
      "text/plain": [
       "{'whiskers': [<matplotlib.lines.Line2D at 0x1dc11d84430>,\n",
       "  <matplotlib.lines.Line2D at 0x1dc11d84700>],\n",
       " 'caps': [<matplotlib.lines.Line2D at 0x1dc11d84a90>,\n",
       "  <matplotlib.lines.Line2D at 0x1dc11d84ca0>],\n",
       " 'boxes': [<matplotlib.lines.Line2D at 0x1dc11d84280>],\n",
       " 'medians': [<matplotlib.lines.Line2D at 0x1dc11d84f70>],\n",
       " 'fliers': [<matplotlib.lines.Line2D at 0x1dc11d99280>],\n",
       " 'means': []}"
      ]
     },
     "execution_count": 6,
     "metadata": {},
     "output_type": "execute_result"
    },
    {
     "data": {
      "image/png": "[encoded data removed]",
      "text/plain": [
       "<Figure size 432x288 with 1 Axes>"
      ]
     },
     "metadata": {
      "needs_background": "light"
     },
     "output_type": "display_data"
    }
   ],
   "source": [
    "plt.boxplot(wine_filtered['volatile acidity'])"
   ]
  },
  {
   "cell_type": "code",
   "execution_count": 7,
   "id": "19d63d98",
   "metadata": {},
   "outputs": [
    {
     "data": {
      "image/png": "[encoded data removed]",
      "text/plain": [
       "<Figure size 432x288 with 1 Axes>"
      ]
     },
     "metadata": {
      "needs_background": "light"
     },
     "output_type": "display_data"
    }
   ],
   "source": [
    "plt.hist(wine_filtered['fixed acidity'])\n",
    "hist, bin_edges=np.histogram(wine_filtered['fixed acidity'].to_numpy(), density=False, bins=2)"
   ]
  },
  {
   "cell_type": "markdown",
   "id": "d05f469d",
   "metadata": {},
   "source": [
    "<div class='alert alert-block alert-warning' style=\"font-weight:bolder\">\n",
    " \n",
    " ### PyOD for anomaly detection\n",
    "\n",
    "</div>"
   ]
  },
  {
   "cell_type": "markdown",
   "id": "3144de42",
   "metadata": {},
   "source": [
    "\n",
    "## Data Preparation\n"
   ]
  },
  {
   "cell_type": "code",
   "execution_count": 8,
   "id": "017ee523",
   "metadata": {},
   "outputs": [],
   "source": [
    "#we will use the 'score' as the labels and assign 'fixed acidity' and 'volatile acidity' as the features\n",
    "labels=wine_filtered['score']\n",
    "data=wine_filtered[['fixed acidity','volatile acidity']]"
   ]
  },
  {
   "cell_type": "code",
   "execution_count": 9,
   "id": "a390d138",
   "metadata": {},
   "outputs": [],
   "source": [
    "#we will use the standardizer from the PyOD library\n",
    "from pyod.utils.utility import standardizer\n",
    "data_std=standardizer(data)"
   ]
  },
  {
   "cell_type": "code",
   "execution_count": 10,
   "id": "80ea55b8",
   "metadata": {},
   "outputs": [],
   "source": [
    "#split percentage\n",
    "split = int(0.7 * len(data))\n",
    "\n",
    "train_data = data_std[:split]\n",
    "test_data= data_std[split:]\n",
    "train_labels= labels[:split]\n",
    "test_labels=labels[split:]"
   ]
  },
  {
   "cell_type": "markdown",
   "id": "d0d76926",
   "metadata": {},
   "source": [
    "<div class='alert alert-block alert-warning' style=\"font-weight:bolder\">\n",
    " \n",
    " ### Multivariate Methods\n",
    "\n",
    "</div>"
   ]
  },
  {
   "cell_type": "markdown",
   "id": "c057c3ae",
   "metadata": {},
   "source": [
    "## HBOS"
   ]
  },
  {
   "cell_type": "markdown",
   "id": "1f73cb94",
   "metadata": {},
   "source": [
    "The idea behind HBOS is to construct a histogram of the data for each dimension and calculate a score for how likely it is for a datapoint to fall within the histogram bins for each dimension. \n",
    "\n",
    "It is important to note that HBOS from PyOD is sensitive to the number of bins selected for the histograms.In the example below, we implement HBOS on our data with the number of bins set to 3 and observe the results."
   ]
  },
  {
   "cell_type": "code",
   "execution_count": 11,
   "id": "2ddbd535",
   "metadata": {},
   "outputs": [
    {
     "name": "stdout",
     "output_type": "stream",
     "text": [
      "\n",
      "On Training Data:\n",
      "HBOS ROC:0.3953, precision @ rank n:0.9343\n",
      "\n",
      "On Test Data:\n",
      "HBOS ROC:0.3606, precision @ rank n:0.7949\n"
     ]
    },
    {
     "data": {
      "image/png": "[encoded data removed]",
      "text/plain": [
       "<Figure size 864x720 with 4 Axes>"
      ]
     },
     "metadata": {},
     "output_type": "display_data"
    }
   ],
   "source": [
    "from pyod.models.hbos import HBOS\n",
    "\n",
    "\n",
    "clf_hb=HBOS(n_bins=3, contamination=0.0367)\n",
    "clf_hb.fit(train_data)\n",
    "\n",
    "# get the prediction labels and outlier scores of the training data\n",
    "train_pred_hb = clf_hb.labels_  # binary labels (0: inliers, 1: outliers)\n",
    "train_scores_hb = clf_hb.decision_scores_  # raw outlier scores\n",
    "\n",
    "# get the prediction on the test data\n",
    "test_pred_hb = clf_hb.predict(test_data)  # outlier labels (0 or 1)\n",
    "test_scores_hb = clf_hb.decision_function(test_data)  # outlier scores\n",
    "\n",
    "\n",
    "\n",
    "# evaluate and print the results\n",
    "print(\"\\nOn Training Data:\")\n",
    "evaluate_print('HBOS', train_labels, train_scores_hb)\n",
    "print(\"\\nOn Test Data:\")\n",
    "evaluate_print('HBOS', test_labels, test_scores_hb)\n",
    "\n",
    "visualize('HBOS', train_data, train_labels, test_data, test_labels, train_pred_hb, test_pred_hb, show_figure=True, save_figure=False)\n",
    "\n"
   ]
  },
  {
   "cell_type": "markdown",
   "id": "560d0c59",
   "metadata": {},
   "source": [
    "<div class='alert alert-block alert-success' style=\"font-weight:bolder\">\n",
    "\n",
    "### Task 1\n",
    "\n",
    "### Experiment with different values for the number of bins to see if you can increase the ROC score >= 0.75. \n",
    "\n",
    "\n",
    "</div>"
   ]
  },
  {
   "cell_type": "code",
   "execution_count": 12,
   "id": "1657d14a",
   "metadata": {},
   "outputs": [
    {
     "name": "stdout",
     "output_type": "stream",
     "text": [
      "Number of Bins = 3: ROC Score = 0.360627583691335\n",
      "Number of Bins = 5: ROC Score = 0.38847572343357384\n",
      "Number of Bins = 7: ROC Score = 0.3723048553132852\n",
      "Number of Bins = 10: ROC Score = 0.39248804409499877\n",
      "Number of Bins = 15: ROC Score = 0.40907432925346515\n"
     ]
    }
   ],
   "source": [
    "from pyod.models.hbos import HBOS\n",
    "from sklearn.metrics import roc_auc_score\n",
    "\n",
    "# List of different number of bins to experiment with\n",
    "num_bins_list = [3, 5, 7, 10, 15]\n",
    "\n",
    "for num_bins in num_bins_list:\n",
    "    # Create and fit the HBOS model with the current number of bins\n",
    "    clf_hb = HBOS(n_bins=num_bins, contamination=0.0367)\n",
    "    clf_hb.fit(train_data)\n",
    "\n",
    "    # Get the outlier scores on the test data\n",
    "    test_scores_hb = clf_hb.decision_function(test_data)  # outlier scores\n",
    "\n",
    "    # Calculate the ROC score for each experiment\n",
    "    roc_score = roc_auc_score(test_labels, test_scores_hb)\n",
    "    print(f\"Number of Bins = {num_bins}: ROC Score = {roc_score}\")\n"
   ]
  },
  {
   "cell_type": "markdown",
   "id": "110d6b6b",
   "metadata": {},
   "source": [
    "<div class='alert alert-block alert-warning' style=\"font-weight:bolder\">\n",
    " \n",
    " ### Neighbourhood-based Methods\n",
    "\n",
    "</div>"
   ]
  },
  {
   "cell_type": "markdown",
   "id": "9505eb71",
   "metadata": {},
   "source": [
    "Neighbourhood based methods try to detect various types of multivariate outliers by considering neighbourhoods of datapoints."
   ]
  },
  {
   "cell_type": "markdown",
   "id": "c4c231fe",
   "metadata": {},
   "source": [
    "## KNN"
   ]
  },
  {
   "cell_type": "markdown",
   "id": "d2f7c8cc",
   "metadata": {},
   "source": [
    "<div class='alert alert-block alert-success' style=\"font-weight:bolder\">\n",
    "\n",
    "### Task 2\n",
    "\n",
    "### Implement KNN with the pyod library. Use the Euclidean distance as the metric, and the average distance of the neighbours. Experiment with different values for n_neighbours. \n",
    "\n",
    "### Hint: https://pyod.readthedocs.io/en/latest/pyod.models.html#module-pyod.models.knn\n",
    "\n",
    "\n",
    "\n",
    "</div>"
   ]
  },
  {
   "cell_type": "code",
   "execution_count": 13,
   "id": "f8196114",
   "metadata": {},
   "outputs": [
    {
     "name": "stdout",
     "output_type": "stream",
     "text": [
      "n_neighbors = 3: ROC Score = 0.3544621869174029\n",
      "n_neighbors = 5: ROC Score = 0.33064663208235395\n",
      "n_neighbors = 7: ROC Score = 0.3383470454729675\n",
      "n_neighbors = 10: ROC Score = 0.3478408446137635\n",
      "n_neighbors = 15: ROC Score = 0.3524002999108374\n"
     ]
    }
   ],
   "source": [
    "#Please implement Task 2 here\n",
    "from pyod.models.knn import KNN\n",
    "from sklearn.metrics import roc_auc_score\n",
    "\n",
    "# List of different values for n_neighbors to experiment with\n",
    "n_neighbors_list = [3, 5, 7, 10, 15]\n",
    "\n",
    "for n_neighbors in n_neighbors_list:\n",
    "    # Create and fit the KNN model with the current number of neighbors\n",
    "    clf_knn = KNN(n_neighbors=n_neighbors, method='mean', metric='euclidean')\n",
    "    clf_knn.fit(train_data)\n",
    "\n",
    "    # Get the outlier scores on the test data\n",
    "    test_scores_knn = clf_knn.decision_function(test_data)  # outlier scores\n",
    "\n",
    "    # Calculate the ROC score for each experiment\n",
    "    roc_score = roc_auc_score(test_labels, test_scores_knn)\n",
    "    print(f\"n_neighbors = {n_neighbors}: ROC Score = {roc_score}\")\n"
   ]
  },
  {
   "cell_type": "markdown",
   "id": "e9642a10",
   "metadata": {},
   "source": [
    "## LOF or COF"
   ]
  },
  {
   "cell_type": "markdown",
   "id": "cfdc709c",
   "metadata": {},
   "source": [
    "<div class='alert alert-block alert-success' style=\"font-weight:bolder\">\n",
    "\n",
    "### Task 3\n",
    "\n",
    "### Take a look at the scatterplot of the dataset with our two feature fixed acidity and volatile acidity. Determine whether we should use LOF or COF on the dataset and implement it. Give a reason for your choice?\n",
    "\n",
    "\n",
    "### Hint: Use functions from the PyOD library\n",
    "\n",
    "\n",
    "\n",
    "</div>"
   ]
  },
  {
   "cell_type": "markdown",
   "id": "45b8b388",
   "metadata": {},
   "source": [
    "<img src=\"images/scatter.png\" alt=\"Alternative text\" />"
   ]
  },
  {
   "cell_type": "code",
   "execution_count": 16,
   "id": "6db4f8ec",
   "metadata": {},
   "outputs": [
    {
     "name": "stdout",
     "output_type": "stream",
     "text": [
      "ROC Score: 0.4868383723757802\n"
     ]
    }
   ],
   "source": [
    "#Please implement Task 3 here\n",
    "from pyod.models.lof import LOF\n",
    "\n",
    "\n",
    "# LOF:\n",
    "clf = LOF(contamination=0.0367, n_neighbors=10)\n",
    "clf.fit(train_data)\n",
    "test_scores = clf.decision_function(test_data)\n",
    "\n",
    "# Evaluate the model's performance (e.g., ROC score)\n",
    "roc_score = roc_auc_score(test_labels, test_scores)\n",
    "print(f\"ROC Score: {roc_score}\")\n"
   ]
  },
  {
   "cell_type": "code",
   "execution_count": null,
   "id": "f16171bf",
   "metadata": {},
   "outputs": [],
   "source": [
    "'''\n",
    "we chose LOF because we see points that have score zero in the dense area or close to.\n",
    "If we observe clusters or varying densities in the scatterplot, LOF may be a suitable choice. \n",
    "LOF is effective at detecting outliers in regions with varying data densities.\n",
    "'''"
   ]
  },
  {
   "cell_type": "markdown",
   "id": "c8bd11dc",
   "metadata": {},
   "source": [
    "<div class='alert alert-block alert-warning' style=\"font-weight:bolder\">\n",
    " \n",
    " ### One-class classification based Methods\n",
    "\n",
    "</div>"
   ]
  },
  {
   "cell_type": "markdown",
   "id": "0ae1ae65",
   "metadata": {},
   "source": [
    "One-class classification based methods detect anomalies by finding a region of space where the majority of data samples reside with the highest density."
   ]
  },
  {
   "cell_type": "markdown",
   "id": "760c81c1",
   "metadata": {},
   "source": [
    "## One-class SVM"
   ]
  },
  {
   "cell_type": "markdown",
   "id": "4c527c8e",
   "metadata": {},
   "source": [
    "<div class='alert alert-block alert-success' style=\"font-weight:bolder\">\n",
    "\n",
    "### Task 4\n",
    "\n",
    "### Implement OCSVM with a linear or non-linear kernel of your choice.\n",
    "\n",
    "   \n",
    "### Hint: Use functions from the PyOD library https://pyod.readthedocs.io/en/latest/_modules/pyod/models/ocsvm.html\n",
    "\n",
    "\n",
    "\n",
    "</div>"
   ]
  },
  {
   "cell_type": "code",
   "execution_count": 17,
   "id": "2ddba2d0",
   "metadata": {},
   "outputs": [
    {
     "name": "stdout",
     "output_type": "stream",
     "text": [
      "ROC Score: 0.6118434384372213\n"
     ]
    }
   ],
   "source": [
    "#Please implement Task 4 here\n",
    "from pyod.models.ocsvm import OCSVM\n",
    "from sklearn.metrics import roc_auc_score\n",
    "\n",
    "# linear kernel:\n",
    "clf_ocsvm = OCSVM(kernel='linear', nu=0.0367)\n",
    "\n",
    "# Fit the model on the training data\n",
    "clf_ocsvm.fit(train_data)\n",
    "\n",
    "# Get the outlier scores on the test data\n",
    "test_scores_ocsvm = clf_ocsvm.decision_function(test_data)\n",
    "\n",
    "# Evaluate the model's performance (e.g., ROC score)\n",
    "roc_score = roc_auc_score(test_labels, test_scores_ocsvm)\n",
    "print(f\"ROC Score: {roc_score}\")\n"
   ]
  },
  {
   "cell_type": "markdown",
   "id": "1f800572",
   "metadata": {},
   "source": [
    "<div class='alert alert-block alert-warning' style=\"font-weight:bolder\">\n",
    " \n",
    " ### Clustering-based Methods\n",
    "\n",
    "</div>"
   ]
  },
  {
   "cell_type": "markdown",
   "id": "2a59793f",
   "metadata": {},
   "source": [
    "Clustering-based approaches assume that normal data belongs to large and dense clusters while, anomalies either do not belong to any of the clusters or form very small clusters."
   ]
  },
  {
   "cell_type": "markdown",
   "id": "f340785a",
   "metadata": {},
   "source": [
    "<div class='alert alert-block alert-success' style=\"font-weight:bolder\">\n",
    "\n",
    "### Task 5\n",
    "\n",
    "### Implement DBSCAN on the dataset. Experiment with 2 different values for epsilon and minpts. Report your results below. Which hyperparameter values give you better results??\n",
    "\n",
    "\n",
    "Please note that we will use the sklearn version (https://scikit-learn.org/stable/modules/generated/sklearn.cluster.DBSCAN.html)\n",
    "\n",
    "</div>"
   ]
  },
  {
   "cell_type": "code",
   "execution_count": 22,
   "id": "17178ddf",
   "metadata": {},
   "outputs": [
    {
     "name": "stdout",
     "output_type": "stream",
     "text": [
      "eps=0.3, min_samples=5: Silhouette Score = 0.29612153634701477\n",
      "eps=0.3, min_samples=10: Silhouette Score = 0.49954138473952325\n",
      "eps=0.5, min_samples=5: Silhouette Score = 0.6449835648211775\n",
      "eps=0.5, min_samples=10: Silhouette Score = 0.6366415269989067\n",
      "Best hyperparameters: eps=0.5, min_samples=5\n",
      "Best Silhouette Score = 0.6449835648211775\n"
     ]
    }
   ],
   "source": [
    "#Please implement Task 5 here\n",
    "from sklearn.cluster import DBSCAN\n",
    "from sklearn.metrics import silhouette_score\n",
    "\n",
    "# List of different values for epsilon (eps) and minimum points (min_samples) to experiment with\n",
    "eps_values = [0.3, 0.5]\n",
    "min_samples_values = [5, 10]\n",
    "\n",
    "best_eps = None\n",
    "best_min_samples = None\n",
    "best_silhouette_score = -1  # Initialize with a low value\n",
    "\n",
    "# Iterate through different combinations of eps and min_samples\n",
    "for eps in eps_values:\n",
    "    for min_samples in min_samples_values:\n",
    "        # Create a DBSCAN model with the current hyperparameters\n",
    "        dbscan = DBSCAN(eps=eps, min_samples=min_samples)\n",
    "\n",
    "        # Fit the model to the dataset\n",
    "        labels = dbscan.fit_predict(train_data)\n",
    "\n",
    "        # Calculate the silhouette score to evaluate the clustering quality\n",
    "        silhouette_avg = silhouette_score(train_data, labels)\n",
    "\n",
    "        # Report the results for the current hyperparameters\n",
    "        print(f\"eps={eps}, min_samples={min_samples}: Silhouette Score = {silhouette_avg}\")\n",
    "\n",
    "        # Update the best hyperparameters if the current score is better\n",
    "        if silhouette_avg > best_silhouette_score:\n",
    "            best_eps = eps\n",
    "            best_min_samples = min_samples\n",
    "            best_silhouette_score = silhouette_avg\n",
    "\n",
    "# Report the best hyperparameter values and the corresponding silhouette score\n",
    "print(f\"Best hyperparameters: eps={best_eps}, min_samples={best_min_samples}\")\n",
    "print(f\"Best Silhouette Score = {best_silhouette_score}\")\n"
   ]
  },
  {
   "cell_type": "markdown",
   "id": "6dc2d514",
   "metadata": {},
   "source": [
    "<div class='alert alert-block alert-success' style=\"font-weight:bolder\">\n",
    "    \n",
    "### Task 6\n",
    "\n",
    "### Compare the results from HBOS, One-class SVM, LOF or COF and KNN. Which one performed better? Can you think of any reasons why?.\n",
    "    \n",
    "</div>"
   ]
  },
  {
   "cell_type": "markdown",
   "id": "58dcb7ec",
   "metadata": {},
   "source": [
    "### Write your answer to task 6 here."
   ]
  },
  {
   "cell_type": "code",
   "execution_count": null,
   "id": "149061f3",
   "metadata": {},
   "outputs": [],
   "source": [
    "'''\n",
    "One-Class SVM (OCSVM) appears to have performed the best, followed by DBSCAN.\n",
    "\n",
    "reasons could be why:\n",
    "OCSVM can capture non-linear patterns effectively, making it suitable for datasets with complex relationships. \n",
    "It has found a good balance between precision and recall, leading to a high ROC score.\n",
    "\n",
    "DBSCAN: DBSCAN is effective when there are clusters or varying densities in the data. \n",
    "It has identified clusters well, and anomalies are points that do not belong to any cluster. \n",
    "In this case, DBSCAN has found a good separation between clusters, leading to a high silhouette score.\n",
    "'''"
   ]
  }
 ],
 "metadata": {
  "kernelspec": {
   "display_name": "Python 3 (ipykernel)",
   "language": "python",
   "name": "python3"
  },
  "language_info": {
   "codemirror_mode": {
    "name": "ipython",
    "version": 3
   },
   "file_extension": ".py",
   "mimetype": "text/x-python",
   "name": "python",
   "nbconvert_exporter": "python",
   "pygments_lexer": "ipython3",
   "version": "3.9.12"
  }
 },
 "nbformat": 4,
 "nbformat_minor": 5
}
